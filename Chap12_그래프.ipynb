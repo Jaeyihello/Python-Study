{
  "nbformat": 4,
  "nbformat_minor": 0,
  "metadata": {
    "colab": {
      "provenance": [],
      "collapsed_sections": [],
      "authorship_tag": "ABX9TyPHvPFT2chW3wbNC+M2X+Lg",
      "include_colab_link": true
    },
    "kernelspec": {
      "name": "python3",
      "display_name": "Python 3"
    },
    "language_info": {
      "name": "python"
    }
  },
  "cells": [
    {
      "cell_type": "markdown",
      "metadata": {
        "id": "view-in-github",
        "colab_type": "text"
      },
      "source": [
        "<a href=\"https://colab.research.google.com/github/Jaeyihello/Python-Study/blob/main/Chap12_%EA%B7%B8%EB%9E%98%ED%94%84.ipynb\" target=\"_parent\"><img src=\"https://colab.research.google.com/assets/colab-badge.svg\" alt=\"Open In Colab\"/></a>"
      ]
    },
    {
      "cell_type": "markdown",
      "source": [
        "#**그래프 Graph**\n",
        "\n",
        "##이웃함수\n",
        "\n",
        "<br>\n",
        "\n",
        "이웃 함수는 그래프에서 노드간의 관계를 나타낸 것으로, 이웃한 노드를 나타낸 함수이다.\n",
        "\n",
        "인접 리스트와 인접 행렬을 통해 구현할 수 있다.\n"
      ],
      "metadata": {
        "id": "oRii-EKW92hc"
      }
    },
    {
      "cell_type": "markdown",
      "source": [
        "###**인접리스트**\n",
        "\n",
        "인접리스트를 구현하는 방법은 3가지가 있다.\n",
        "\n",
        "1. 셋\n",
        "2. 리스트\n",
        "3. 딕셔너리\n",
        "\n",
        "<br>\n",
        "\n",
        "*   이웃 노드를 반복해서 접근하는 경우 리스트를 사용하는게 더 좋다.\n",
        "*   그래프가 촘촘한 경우(간선이 많을 때)에는 셋을 사용한게 더 좋다.\n",
        "\n",
        "<br>\n",
        "\n",
        "*   리스트에서 한 객체를 삭제할 경우, 중간에 있는 객체는 시간 복잡도가 O(n)이지만, 리스트 끝에서 삭제한다면 O(1)이다. \n",
        "\n",
        "*   따라서 순서가 중요하지 않다면, 삭제하려는 이웃을 swap해서 마지막 항목으로 위치를 바꾸고, pop()을 호출하여 삭제하는게 효율적이다.\n",
        "\n",
        "<br>\n",
        "\n",
        "*   딕셔너리의 경우 노드를 키, 가중치를 값으로 구현할 수 있다.\n",
        "*   키값으로 특정 노드를, value 값으로 이 노드와 인접한 이웃들을 정의 할 수 있다. \n",
        "\n",
        "\n",
        "\n",
        "\n",
        "\n",
        "\n"
      ],
      "metadata": {
        "id": "Bguvyisq_BbO"
      }
    },
    {
      "cell_type": "code",
      "source": [
        "#인접 리스트 (유향그래프)\n",
        "\n",
        "\n",
        "#셋\n",
        "\n",
        "#각 인덱스에 노드 연결\n",
        "a,b,c,d,e,f = range(6) \n",
        "\n",
        "#a - b,c,d,f / b - a,d,f / c - a,b,d,e / d - a,e / e - a,b,c / f - b,c,d,e\n",
        "N = [{b,c,d,f}, {a,d,f}, {a,b,d,e}, {a,e}, {a,b,c}, {b,c,d,e}]\n",
        "\n",
        "print(N[a])\n",
        "print(N[b])\n",
        "print(N[c])\n",
        "print(N[d])\n",
        "print(N[e])\n",
        "print(N[f])\n",
        "\n",
        "b in N[a]"
      ],
      "metadata": {
        "colab": {
          "base_uri": "https://localhost:8080/"
        },
        "id": "GPOK7C8D-7rV",
        "outputId": "1884d5ee-d10f-455f-e3e8-6fc6356a9dd0"
      },
      "execution_count": 4,
      "outputs": [
        {
          "output_type": "stream",
          "name": "stdout",
          "text": [
            "{1, 2, 3, 5}\n",
            "{0, 3, 5}\n",
            "{0, 1, 3, 4}\n",
            "{0, 4}\n",
            "{0, 1, 2}\n",
            "{1, 2, 3, 4}\n"
          ]
        },
        {
          "output_type": "execute_result",
          "data": {
            "text/plain": [
              "True"
            ]
          },
          "metadata": {},
          "execution_count": 4
        }
      ]
    },
    {
      "cell_type": "code",
      "source": [
        "#리스트\n",
        "\n",
        "#각 인덱스에 노드 연결\n",
        "a,b,c,d,e,f = range(6) \n",
        "\n",
        "#a - b,c,d,f / b - a,d,f / c - a,b,d,e / d - a,e / e - a,b,c / f - b,c,d,e\n",
        "N = [[b,c,d,f], [a,d,f], [a,b,d,e], [a,e], [a,b,c], [b,c,d,e]]\n",
        "\n",
        "print(N[a])\n",
        "print(N[b])\n",
        "print(N[c])\n",
        "print(N[d])\n",
        "print(N[e])\n",
        "print(N[f])\n",
        "\n",
        "print(b in N[a])\n",
        "\n",
        "#차수\n",
        "len(N[c])"
      ],
      "metadata": {
        "colab": {
          "base_uri": "https://localhost:8080/"
        },
        "id": "FhaB3maIfSih",
        "outputId": "3704e77e-52af-4687-e668-72e50eac061c"
      },
      "execution_count": 17,
      "outputs": [
        {
          "output_type": "stream",
          "name": "stdout",
          "text": [
            "[1, 2, 3, 5]\n",
            "[0, 3, 5]\n",
            "[0, 1, 3, 4]\n",
            "[0, 4]\n",
            "[0, 1, 2]\n",
            "[1, 2, 3, 4]\n",
            "True\n"
          ]
        },
        {
          "output_type": "execute_result",
          "data": {
            "text/plain": [
              "4"
            ]
          },
          "metadata": {},
          "execution_count": 17
        }
      ]
    },
    {
      "cell_type": "code",
      "source": [
        "#딕셔너리\n",
        "\n",
        "#각 인덱스에 노드 연결\n",
        "a,b,c,d,e,f = range(6) \n",
        "\n",
        "#a - b,c,d,f / b - a,d,f / c - a,b,d,e / d - a,e / e - a,b,c / f - b,c,d,e\n",
        "\n",
        "#가중치 있는 경우\n",
        "#각 노드별로 딕셔너리 생성\n",
        "N = [{b:2, c:1, d:3, f:5}, {a:2, d:4, f:7}, {a:5, b:2, d:1, e:3}, {a:3, e:2}, {a:7, b:2, c:4}, {b:3, c:1, d:8, e:2}]\n",
        "\n",
        "print(N[a])\n",
        "print(N[b])\n",
        "print(N[c])\n",
        "print(N[d])\n",
        "print(N[e])\n",
        "print(N[f])\n",
        "\n",
        "b in N[a]\n",
        "\n",
        "#(c,e)의 간선 가중치\n",
        "print(N[c][e])"
      ],
      "metadata": {
        "colab": {
          "base_uri": "https://localhost:8080/"
        },
        "id": "SLLGTie4fmS5",
        "outputId": "a28826ab-04d5-47c1-f7ba-d05f56f39acd"
      },
      "execution_count": 8,
      "outputs": [
        {
          "output_type": "stream",
          "name": "stdout",
          "text": [
            "{1: 2, 2: 1, 3: 3, 5: 5}\n",
            "{0: 2, 3: 4, 5: 7}\n",
            "{0: 5, 1: 2, 3: 1, 4: 3}\n",
            "{0: 3, 4: 2}\n",
            "{0: 7, 1: 2, 2: 4}\n",
            "{1: 3, 2: 1, 3: 8, 4: 2}\n",
            "3\n"
          ]
        }
      ]
    },
    {
      "cell_type": "code",
      "source": [
        "#딕셔너리\n",
        "\n",
        "#각 인덱스에 노드 연결\n",
        "a,b,c,d,e,f = range(6) \n",
        "\n",
        "#a - b,c,d,f / b - a,d,f / c - a,b,d,e / d - a,e / e - a,b,c / f - b,c,d,e\n",
        "\n",
        "#가중치 없이 노드랑 이웃노드 연결\n",
        "#각 노드별로 딕셔너리 생성 (키 - 노드명, value - 이웃 셋)\n",
        "N = { 'a' : set('bcdf'), 'b': set('adf'), 'c': set('abde'), 'd': set('ae'), 'e': set('abc'), 'f' : set('bcde')}\n",
        "\n",
        "print(N['a'])\n",
        "print(N['b'])\n",
        "print(N['c'])\n",
        "print(N['d'])\n",
        "print(N['e'])\n",
        "print(N['f'])\n",
        "\n",
        "#char로 처리해야 함\n",
        "'b' in N['a']\n"
      ],
      "metadata": {
        "colab": {
          "base_uri": "https://localhost:8080/"
        },
        "id": "pF0BVVnTgivr",
        "outputId": "a4c9ccda-047f-4058-db7e-dbb8e90c2840"
      },
      "execution_count": 11,
      "outputs": [
        {
          "output_type": "stream",
          "name": "stdout",
          "text": [
            "{'d', 'f', 'c', 'b'}\n",
            "{'a', 'f', 'd'}\n",
            "{'a', 'd', 'e', 'b'}\n",
            "{'a', 'e'}\n",
            "{'a', 'c', 'b'}\n",
            "{'d', 'c', 'e', 'b'}\n"
          ]
        },
        {
          "output_type": "execute_result",
          "data": {
            "text/plain": [
              "True"
            ]
          },
          "metadata": {},
          "execution_count": 11
        }
      ]
    },
    {
      "cell_type": "markdown",
      "source": [
        "###**인접 행렬**\n",
        "\n",
        "인접 행렬에서 노드들은 다른 노드들에 대해 0 또는 1값을 가진다.\n",
        "<br>\n",
        "자기 자신에 대해서는 (행렬의 대각선) 항상 0 이다.\n",
        "\n",
        "\n",
        "*  0 = Fale (연결 X)\n",
        "*  1 = True (연결 O\n",
        "\n",
        "\n",
        "\n",
        "<br>\n",
        "\n",
        "*  무향 그래프의 인접 행렬은 항상 대칭이다.\n",
        "*  가중치를 가지는 경우, 1대신 가중치 값을, 0 대신 float('inf'), None, -1 등의 값을 넣는다.\n",
        "\n",
        "<br>\n",
        "\n",
        "인접 행렬에서 간선을 찾는 시간 복잡도 : O(1)\n",
        "<br>\n",
        "특정 노드의 이웃을 순회하는 시간 복잡도 : O(n)\n"
      ],
      "metadata": {
        "id": "iO4rF7FdhMZC"
      }
    },
    {
      "cell_type": "code",
      "source": [
        "#인접 행렬\n",
        "\n",
        "#각 인덱스에 노드 연결\n",
        "a,b,c,d,e,f = range(6) \n",
        "\n",
        "#a - b,c,d,f / b - a,d,f / c - a,b,d,e / d - a,e / e - a,b,c / f - b,c,d,e\n",
        "N = [[0,1,1,1,0,1], [1,0,0,1,0,1], [1,1,0,1,1,0], [1,0,0,0,1,0], [1,1,1,0,0,0], [0,1,1,1,1,0]]\n",
        "\n",
        "\n",
        "print(N[b][f])\n",
        "print(N[e][d])\n",
        "\n",
        "#차수 구하기\n",
        "sum(N[d]) "
      ],
      "metadata": {
        "colab": {
          "base_uri": "https://localhost:8080/"
        },
        "id": "8YhdqrJT-97W",
        "outputId": "f1e2ca7d-6c07-4c5b-b5ad-5cd127f70726"
      },
      "execution_count": 15,
      "outputs": [
        {
          "output_type": "stream",
          "name": "stdout",
          "text": [
            "1\n",
            "0\n"
          ]
        },
        {
          "output_type": "execute_result",
          "data": {
            "text/plain": [
              "2"
            ]
          },
          "metadata": {},
          "execution_count": 15
        }
      ]
    },
    {
      "cell_type": "code",
      "source": [
        "#0대신 다른 값\n",
        "\n",
        "_ - float('inf')\n",
        "#a - b,c,d,f / b - a,d,f / c - a,b,d,e / d - a,e / e - a,b,c / f - b,c,d,e\n",
        "N = [[_,1,1,1,_,1], [1,_,_,1,_,1], [1,1,_,1,1,_], [1,_,_,_,1,_], [1,1,1,_,_,_], [_,1,1,1,1,_]]\n",
        "\n",
        "\n",
        "print(N[b][f] < _)\n",
        "print(N[e][f] < _)\n",
        "\n",
        "#차수 구하기\n",
        "sum(1 for w in N[b] if w < _)"
      ],
      "metadata": {
        "colab": {
          "base_uri": "https://localhost:8080/"
        },
        "id": "b5tErWrMi3N9",
        "outputId": "77a4b8b8-a3ef-4f4d-dbab-3bf01774d6f2"
      },
      "execution_count": 23,
      "outputs": [
        {
          "output_type": "stream",
          "name": "stdout",
          "text": [
            "True\n",
            "False\n"
          ]
        },
        {
          "output_type": "execute_result",
          "data": {
            "text/plain": [
              "3"
            ]
          },
          "metadata": {},
          "execution_count": 23
        }
      ]
    },
    {
      "cell_type": "markdown",
      "source": [
        "###**트리**\n",
        "\n",
        "그래프에서 노드는 다른 여러 노드랑 연결(참조)될 수 있지만 트리는 부모 노드(상위 노드)에 의해서만 참조된다. \n",
        "<br>\n",
        "루트 노드는 부모가 없는 노드이다.\n",
        "<br>\n",
        "부모 노드를 참조하는 노드는 자식 노드이다.\n",
        "\n",
        "<br>\n",
        "\n",
        "*  중첩 리스트를 이용하여 트리를 구현할 수 있는데, 이 경우 가지가 많아지면 너무 복잡해진다.\n",
        "*  트리는 Class를 정의해서 구현하는 것이 좋다.\n",
        "\n"
      ],
      "metadata": {
        "id": "zGW3U1UhkA-i"
      }
    },
    {
      "cell_type": "code",
      "source": [
        "#트리 클래스\n",
        "\n",
        "\n",
        "class SimpleTree(object):\n",
        "  \n",
        "  def __init__(self, value = None, children = None):\n",
        "    self.value = value\n",
        "    self.children = children\n",
        "    if self.children is None :\n",
        "      self.children = []\n",
        "  \n",
        "  def __repr__(self, level=0):\n",
        "    ret = \"\\t\"*level + repr(self.value) + \"\\n\"\n",
        "    for child in self.children :\n",
        "      ret += child.__repr__(level+1)\n",
        "    return ret\n",
        "\n",
        "\n",
        "def main() :\n",
        "  st = SimpleTree( 'a', [\n",
        "      SimpleTree('b', [ SimpleTree('d'), SimpleTree('e') ]),\n",
        "      SimpleTree('c', [ SimpleTree('f'), SimpleTree('g')])\n",
        "  ])\n",
        "\n",
        "  print(st)\n",
        "\n",
        "\n",
        "\n",
        "if __name__ == \"__main__\" :\n",
        "  main()"
      ],
      "metadata": {
        "colab": {
          "base_uri": "https://localhost:8080/"
        },
        "id": "26Cwr08Ppy5w",
        "outputId": "e7eac998-52bf-430a-994e-eb69ee672893"
      },
      "execution_count": 29,
      "outputs": [
        {
          "output_type": "stream",
          "name": "stdout",
          "text": [
            "'a'\n",
            "\t'b'\n",
            "\t\t'd'\n",
            "\t\t'e'\n",
            "\t'c'\n",
            "\t\t'f'\n",
            "\t\t'g'\n",
            "\n"
          ]
        }
      ]
    }
  ]
}